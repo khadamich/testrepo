{
 "cells": [
  {
   "cell_type": "markdown",
   "id": "47f8927a-a965-4983-b4ef-3f86be2cb3ee",
   "metadata": {},
   "source": [
    "# Data Science Tools and Ecosystem"
   ]
  },
  {
   "cell_type": "markdown",
   "id": "db80f90b-5437-4e85-b3f9-973ab36f8b08",
   "metadata": {},
   "source": [
    "## Author: \n",
    "Angel Michell Martinez Mendoza"
   ]
  },
  {
   "cell_type": "markdown",
   "id": "39d2ddd2-361a-4db0-bfb5-5c71a7e1a2af",
   "metadata": {},
   "source": [
    "In this notebook, Data Science Tools and Ecosystem are summarized."
   ]
  },
  {
   "cell_type": "markdown",
   "id": "239e3621-2769-452b-a70c-76b1348f606f",
   "metadata": {},
   "source": [
    "**Objectives:**\n",
    "- Popular Languanges in Data Science.\n",
    "- Common Libraries used in Data Science.\n",
    "- Data Science Tools.\n",
    "- Arithmetic Expressions in Python."
   ]
  },
  {
   "cell_type": "markdown",
   "id": "c9469411-1ee0-4f0f-9530-39d1f5ccc9eb",
   "metadata": {},
   "source": [
    "Some of the popular langagues that Data Scientist use are:\n",
    "1. Python\n",
    "2. R\n",
    "3. C++"
   ]
  },
  {
   "cell_type": "markdown",
   "id": "32093858-7fd1-4bf4-8fb2-fb4cf32b9cff",
   "metadata": {},
   "source": [
    "Some of the commonly used libraries used by Data Scientists include:\n",
    "1. Numpy\n",
    "2. Pandas\n",
    "3. TensorFlow"
   ]
  },
  {
   "cell_type": "markdown",
   "id": "b0111f49-692a-445f-ae16-8060d630a829",
   "metadata": {},
   "source": [
    "| Data Science Tools |  \n",
    "| --- |\n",
    "| Jupyter Lab |\n",
    "| Anaconda-Navigator |\n",
    "| RStudio |"
   ]
  },
  {
   "cell_type": "markdown",
   "id": "ce38e262-07f2-4af9-8bba-3b6206b79260",
   "metadata": {},
   "source": [
    "Below are a few examples of evaluating arithmetic expressions in Python"
   ]
  },
  {
   "cell_type": "code",
   "execution_count": 2,
   "id": "b031b256-c1e7-4048-933a-c7d6b15ee10c",
   "metadata": {},
   "outputs": [
    {
     "data": {
      "text/plain": [
       "17"
      ]
     },
     "execution_count": 2,
     "metadata": {},
     "output_type": "execute_result"
    }
   ],
   "source": [
    "#This a simple artihmetic expression to multiply then add integers\n",
    "(3*4)+5"
   ]
  },
  {
   "cell_type": "code",
   "execution_count": 4,
   "id": "799a7e35-abc3-4e5b-b2c2-ffc31f48c586",
   "metadata": {},
   "outputs": [
    {
     "name": "stdout",
     "output_type": "stream",
     "text": [
      "3.3333333333333335\n"
     ]
    }
   ],
   "source": [
    "#This will convert 200 minutes to hours by dividing by 60\n",
    "minutes = 200\n",
    "hours = 200/60\n",
    "print(hours)"
   ]
  },
  {
   "cell_type": "markdown",
   "id": "63976700-96e2-4bbe-a3cd-e1cdadf81e0a",
   "metadata": {},
   "source": []
  }
 ],
 "metadata": {
  "kernelspec": {
   "display_name": "Python 3 (ipykernel)",
   "language": "python",
   "name": "python3"
  },
  "language_info": {
   "codemirror_mode": {
    "name": "ipython",
    "version": 3
   },
   "file_extension": ".py",
   "mimetype": "text/x-python",
   "name": "python",
   "nbconvert_exporter": "python",
   "pygments_lexer": "ipython3",
   "version": "3.9.16"
  }
 },
 "nbformat": 4,
 "nbformat_minor": 5
}
